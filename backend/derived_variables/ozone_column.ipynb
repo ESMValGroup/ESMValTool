{
 "cells": [
  {
   "cell_type": "code",
   "execution_count": null,
   "metadata": {
    "collapsed": true
   },
   "outputs": [],
   "source": [
    "import iris\n",
    "import os\n",
    "import glob\n",
    "import datetime\n",
    "from iris.experimental.equalise_cubes import equalise_attributes\n",
    "import numpy as np\n",
    "import matplotlib.pyplot as plt\n",
    "import iris.quickplot as qplt\n",
    "from __future__ import division"
   ]
  },
  {
   "cell_type": "markdown",
   "metadata": {},
   "source": [
    "# Example Data"
   ]
  },
  {
   "cell_type": "code",
   "execution_count": null,
   "metadata": {
    "collapsed": false
   },
   "outputs": [],
   "source": [
    "data_path = '../../../ftp.pa.op.dlr.de/pub/righi/BACKEND-DATA/ETHZ_CMIP5/historical/Amon'\n",
    "ps_cube_list = iris.load(glob.glob(os.path.join(data_path, \"ps/GFDL-ESM2G/r1i1p1/ps_Amon_GFDL-ESM2G_historical_r1i1p1_*\")))\n",
    "tro3_cube = iris.load_cube(os.path.join(data_path, \"tro3/GFDL-ESM2G/r1i1p1/tro3_Amon_GFDL-ESM2G_historical_r1i1p1_200001-200212.nc\"))\n",
    "\n",
    "for cube in ps_cube_list:\n",
    "    cube.attributes['history'] = None\n",
    "    \n",
    "equalise_attributes(ps_cube_list)\n",
    "ps_cube = ps_cube_list.concatenate_cube()\n",
    "print ps_cube.shape\n",
    "print tro3_cube.shape"
   ]
  },
  {
   "cell_type": "markdown",
   "metadata": {},
   "source": [
    "## Mole fraction ozone in air on pressure levels"
   ]
  },
  {
   "cell_type": "code",
   "execution_count": null,
   "metadata": {
    "collapsed": false
   },
   "outputs": [],
   "source": [
    "# show data in first month\n",
    "for i, p_lev in enumerate(tro3_cube.coord('air_pressure').points):\n",
    "    print('Pressure level:' + str(p_lev))\n",
    "    qplt.contourf(tro3_cube[0, i,:, :])\n",
    "\n",
    "    # Add coastlines to the map\n",
    "    plt.gca().coastlines()\n",
    "    plt.show()"
   ]
  },
  {
   "cell_type": "markdown",
   "metadata": {},
   "source": [
    "## Surface pressure"
   ]
  },
  {
   "cell_type": "code",
   "execution_count": null,
   "metadata": {
    "collapsed": false
   },
   "outputs": [],
   "source": [
    "qplt.contourf(ps_cube[0, :, :])\n",
    "\n",
    "# Add coastlines to the map\n",
    "plt.gca().coastlines()\n",
    "plt.show()"
   ]
  },
  {
   "cell_type": "markdown",
   "metadata": {},
   "source": [
    "![Ozone vs height](https://upload.wikimedia.org/wikipedia/commons/thumb/c/cb/Ozone_altitude_UV_graph.svg/300px-Ozone_altitude_UV_graph.svg.png)\n",
    "\n",
    "![Pressure vs Height](https://upload.wikimedia.org/wikipedia/commons/thumb/9/95/Pressure_air.svg/300px-Pressure_air.svg.png)"
   ]
  },
  {
   "cell_type": "markdown",
   "metadata": {},
   "source": [
    "# Pressure layers taking surface pressure into account"
   ]
  },
  {
   "cell_type": "code",
   "execution_count": null,
   "metadata": {
    "collapsed": false
   },
   "outputs": [],
   "source": [
    "import calculate_variables as toz\n",
    "reload(toz)"
   ]
  },
  {
   "cell_type": "code",
   "execution_count": null,
   "metadata": {
    "collapsed": false
   },
   "outputs": [],
   "source": [
    "# test create_pressure_cube\n",
    "top_limit = 100\n",
    "p_4d = toz._create_pressure_array(tro3_cube, ps_cube, top_limit)\n",
    "\n",
    "# first layer is surface pressure\n",
    "assert (p_4d[:, 0, :, :] == ps_cube.data).all()\n",
    "\n",
    "# last layer is top_limit\n",
    "assert (p_4d[:, -1, :, :] == top_limit).all()"
   ]
  },
  {
   "cell_type": "code",
   "execution_count": null,
   "metadata": {
    "collapsed": false
   },
   "outputs": [],
   "source": [
    "# test apply_bounds_width\n",
    "top_limit=100\n",
    "\n",
    "%time p_4d = toz._create_pressure_array(tro3_cube, ps_cube, top_limit)\n",
    "%time layer_thicknesses = toz._apply_pressure_level_widths(p_4d)  # the bottleneck"
   ]
  },
  {
   "cell_type": "markdown",
   "metadata": {},
   "source": [
    "##  Pressure layer widths"
   ]
  },
  {
   "cell_type": "code",
   "execution_count": null,
   "metadata": {
    "collapsed": false
   },
   "outputs": [],
   "source": [
    "assert layer_thicknesses.shape == tro3_cube.shape\n",
    "for i in range(layer_thicknesses.shape[1]):\n",
    "    plt.contourf(layer_thicknesses[0, i,:, :], cmap='plasma')\n",
    "\n",
    "    # Add coastlines to the map\n",
    "    plt.colorbar()\n",
    "    plt.show()"
   ]
  },
  {
   "cell_type": "markdown",
   "metadata": {},
   "source": [
    "# Total column ozone with surface pressure"
   ]
  },
  {
   "cell_type": "code",
   "execution_count": null,
   "metadata": {
    "collapsed": false
   },
   "outputs": [],
   "source": [
    "tro3_cube = tro3_cube[0:2, :, :, :]\n",
    "ps_cube = ps_cube[0:2, :, :]\n",
    "\n",
    "ozone_col_cube = toz.calc_toz(iris.cube.CubeList([tro3_cube, ps_cube]))\n",
    "print ozone_col_cube\n",
    "\n",
    "qplt.contourf(ozone_col_cube[0,:,:])\n",
    "plt.gca().coastlines()\n",
    "plt.title('Total column ozone / DU')\n",
    "plt.show()"
   ]
  },
  {
   "cell_type": "markdown",
   "metadata": {},
   "source": [
    "# Total column ozone with constant surface pressure of 102000 Pa"
   ]
  },
  {
   "cell_type": "code",
   "execution_count": null,
   "metadata": {
    "collapsed": false
   },
   "outputs": [],
   "source": [
    "const_ps_cube = ps_cube.copy()\n",
    "const_ps_cube.data = np.ones(shape=const_ps_cube.data.shape) * 102000\n",
    "\n",
    "ozone_col_cube_const_p = toz.calc_toz(iris.cube.CubeList([tro3_cube, ps_cube]))\n",
    "print ozone_col_cube\n",
    "\n",
    "qplt.contourf(ozone_col_cube[0,:,:])\n",
    "plt.gca().coastlines()\n",
    "plt.title('Total column ozone / DU')\n",
    "plt.show()"
   ]
  },
  {
   "cell_type": "markdown",
   "metadata": {},
   "source": [
    "# What difference makes the surface pressure?"
   ]
  },
  {
   "cell_type": "code",
   "execution_count": null,
   "metadata": {
    "collapsed": false
   },
   "outputs": [],
   "source": [
    "qplt.contourf(ozone_col_cube[0,:,:] - ozone_col_cube_const_p[0,:,:])\n",
    "plt.gca().coastlines()\n",
    "plt.title('O3 (sp) - O3 (const p) / DU')\n",
    "plt.show()"
   ]
  },
  {
   "cell_type": "code",
   "execution_count": null,
   "metadata": {
    "collapsed": true
   },
   "outputs": [],
   "source": []
  }
 ],
 "metadata": {
  "anaconda-cloud": {},
  "kernelspec": {
   "display_name": "Python 2",
   "language": "python",
   "name": "python2"
  },
  "language_info": {
   "codemirror_mode": {
    "name": "ipython",
    "version": 2
   },
   "file_extension": ".py",
   "mimetype": "text/x-python",
   "name": "python",
   "nbconvert_exporter": "python",
   "pygments_lexer": "ipython2",
   "version": "2.7.13"
  }
 },
 "nbformat": 4,
 "nbformat_minor": 1
}
